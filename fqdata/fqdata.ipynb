{
 "cells": [
  {
   "cell_type": "code",
   "execution_count": 6,
   "metadata": {
    "scrolled": true
   },
   "outputs": [
    {
     "name": "stdout",
     "output_type": "stream",
     "text": [
      "（右肺上叶）切除：\n",
      "  - 腺癌，以附壁样及腺泡状结构为主，另见少许微乳头结构，大小1.8×1×1cm；\n",
      "  - 未见脉管癌栓；\n",
      "  - 癌组织未累及脏层胸膜；\n",
      "  - 支气管断端及血管断端未见癌；\n",
      "  - 淋巴结未见癌转移（支气管旁0/4，第11组0/3，第12上叶组0/2，第10组0/2，第3A组0/1，第2R+4R组0/3，第2R组0/1，第8组0/1，第7组0/2，第13尖段组0/1）；\n",
      "  - 肿瘤病理分期：pT1aN0\n",
      "------------------------------------------------------------\n",
      "免疫组化结果显示:ALK-Neg(－),ALK-ventana(－),BRAF(－),Cmet(+，中-强，90%),HER2(2+),Ki-67(15%+),PD-L1(－),ROS-1(1+),弹力ELASTIC(弹力纤维+)。\n"
     ]
    }
   ],
   "source": [
    "import pandas as pd\n",
    "import os\n",
    "\n",
    "class dealdata:\n",
    "    def __init__(self):\n",
    "        self.pth=os.getcwd()\n",
    "        self.fn=os.path.join(self.pth,'data.xlsx')\n",
    "        \n",
    "    def readexcel(self):\n",
    "        lstname=[\"病理类型\",\"大小\",\"脉管癌栓\",\"是否累积脏层胸膜\", \\\n",
    "                 \"支气管断端是否见癌\",\"淋巴结是否转移\",\"淋巴结转移个数\", \\\n",
    "                 \"肿瘤病理分期\",\"ALK-ventana\",\"BRAF\",\"Cmet\",\"HER2\",\"Ki-67\", \\\n",
    "                 \"PD-L1\",\"ROS-1\",\"弹力ELASTIC\"]\n",
    "        df=pd.read_excel(self.fn)\n",
    "        bl=df['病理诊断']\n",
    "        print(bl[0])\n",
    "\n",
    "if __name__=='__main__':\n",
    "    mydata=dealdata()\n",
    "    mydata.readexcel()\n",
    "    \n",
    "    "
   ]
  },
  {
   "cell_type": "code",
   "execution_count": 7,
   "metadata": {},
   "outputs": [
    {
     "name": "stdout",
     "output_type": "stream",
     "text": [
      "（右肺上叶）切除：\n",
      "  - 腺癌，以附壁样及腺泡状结构为主，另见少许微乳头结构，大小1.8×1×1cm；\n",
      "  - 未见脉管癌栓；\n",
      "  - 癌组织未累及脏层胸膜；\n",
      "  - 支气管断端及血管断端未见癌；\n",
      "  - 淋巴结未见癌转移（支气管旁0/4，第11组0/3，第12上叶组0/2，第10组0/2，第3A组0/1，第2R+4R组0/3，第2R组0/1，第8组0/1，第7组0/2，第13尖段组0/1）；\n",
      "  - 肿瘤病理分期：pT1aN0\n",
      "------------------------------------------------------------\n",
      "免疫组化结果显示:ALK-Neg(－),ALK-ventana(－),BRAF(－),Cmet(+，中-强，90%),HER2(2+),Ki-67(15%+),PD-L1(－),ROS-1(1+),弹力ELASTIC(弹力纤维+)。\n",
      "\n"
     ]
    }
   ],
   "source": [
    "t='''（右肺上叶）切除：\n",
    "  - 腺癌，以附壁样及腺泡状结构为主，另见少许微乳头结构，大小1.8×1×1cm；\n",
    "  - 未见脉管癌栓；\n",
    "  - 癌组织未累及脏层胸膜；\n",
    "  - 支气管断端及血管断端未见癌；\n",
    "  - 淋巴结未见癌转移（支气管旁0/4，第11组0/3，第12上叶组0/2，第10组0/2，第3A组0/1，第2R+4R组0/3，第2R组0/1，第8组0/1，第7组0/2，第13尖段组0/1）；\n",
    "  - 肿瘤病理分期：pT1aN0\n",
    "------------------------------------------------------------\n",
    "免疫组化结果显示:ALK-Neg(－),ALK-ventana(－),BRAF(－),Cmet(+，中-强，90%),HER2(2+),Ki-67(15%+),PD-L1(－),ROS-1(1+),弹力ELASTIC(弹力纤维+)。\n",
    "'''\n",
    "\n",
    "ptn=r'"
   ]
  }
 ],
 "metadata": {
  "kernelspec": {
   "display_name": "Python 3.7.4 64-bit ('base': conda)",
   "language": "python",
   "name": "python37464bitbasecondaae9dddbca60f4ee2b2ed001d01f0a8f8"
  },
  "language_info": {
   "codemirror_mode": {
    "name": "ipython",
    "version": 3
   },
   "file_extension": ".py",
   "mimetype": "text/x-python",
   "name": "python",
   "nbconvert_exporter": "python",
   "pygments_lexer": "ipython3",
   "version": "3.7.4"
  },
  "toc": {
   "base_numbering": 1,
   "nav_menu": {},
   "number_sections": true,
   "sideBar": true,
   "skip_h1_title": false,
   "title_cell": "Table of Contents",
   "title_sidebar": "Contents",
   "toc_cell": false,
   "toc_position": {},
   "toc_section_display": true,
   "toc_window_display": false
  }
 },
 "nbformat": 4,
 "nbformat_minor": 4
}
