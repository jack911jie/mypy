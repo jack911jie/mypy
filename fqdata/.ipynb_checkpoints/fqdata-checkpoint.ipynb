{
 "cells": [
  {
   "cell_type": "code",
   "execution_count": null,
   "metadata": {},
   "outputs": [],
   "source": [
    "import pandas\n",
    "import os\n",
    "\n",
    "class dealdata:\n",
    "    def __init__(self):\n",
    "        self.pth=os.getcwd()\n",
    "        self.fn=os.path.join(self.pth,'data.xlsx')\n",
    "        \n",
    "    def readexcel(self):\n",
    "        df=pd.read_excel(self.fn)\n",
    "        print(df)\n",
    "\n",
    "if __name__==''"
   ]
  }
 ],
 "metadata": {
  "kernelspec": {
   "display_name": "Python 3.7.4 64-bit ('base': conda)",
   "language": "python",
   "name": "python37464bitbasecondaae9dddbca60f4ee2b2ed001d01f0a8f8"
  },
  "language_info": {
   "codemirror_mode": {
    "name": "ipython",
    "version": 3
   },
   "file_extension": ".py",
   "mimetype": "text/x-python",
   "name": "python",
   "nbconvert_exporter": "python",
   "pygments_lexer": "ipython3",
   "version": "3.7.4"
  },
  "toc": {
   "base_numbering": 1,
   "nav_menu": {},
   "number_sections": true,
   "sideBar": true,
   "skip_h1_title": false,
   "title_cell": "Table of Contents",
   "title_sidebar": "Contents",
   "toc_cell": false,
   "toc_position": {},
   "toc_section_display": true,
   "toc_window_display": false
  }
 },
 "nbformat": 4,
 "nbformat_minor": 4
}
