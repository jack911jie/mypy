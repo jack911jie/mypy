{
 "cells": [
  {
   "cell_type": "markdown",
   "metadata": {},
   "source": [
    "\"病理类型\",\"大小\",\"脉管癌栓\",\"是否累积脏层胸膜\",\"支气管断端是否见癌\",\"淋巴结是否转移\",\"淋巴结转移个数\",\"肿瘤病理分期\",\"ALK-ventana\",\"BRAF\",\"Cmet\",\"HER2\",\"Ki-67\",\"PD-L1\",\"ROS-1\",\"弹力ELASTIC\"\n",
    "\n",
    "（右肺上叶）切除：\n",
    "  - 腺癌，以附壁样及腺泡状结构为主，另见少许微乳头结构，大小1.8×1×1cm；\n",
    "  - 未见脉管癌栓；\n",
    "  - 癌组织未累及脏层胸膜；\n",
    "  - 支气管断端及血管断端未见癌；\n",
    "  - 淋巴结未见癌转移（支气管旁0/4，第11组0/3，第12上叶组0/2，第10组0/2，第3A组0/1，第2R+4R组0/3，第2R组0/1，第8组0/1，第7组0/2，第13尖段组0/1）；\n",
    "  - 肿瘤病理分期：pT1aN0\n",
    "------------------------------------------------------------\n",
    "免疫组化结果显示:ALK-Neg(－),ALK-ventana(－),BRAF(－),Cmet(+，中-强，90%),HER2(2+),Ki-67(15%+),PD-L1(－),ROS-1(1+),弹力ELASTIC(弹力纤维+)。\n",
    "\n",
    "淋巴结：(第[\\d\\d|\\d].*组[1-9]/\\d|.*段[1-9]/\\d)"
   ]
  },
  {
   "cell_type": "code",
   "execution_count": 156,
   "metadata": {
    "code_folding": [
     5
    ],
    "scrolled": true
   },
   "outputs": [
    {
     "name": "stdout",
     "output_type": "stream",
     "text": [
      "写入完成\n"
     ]
    }
   ],
   "source": [
    "import pandas as pd\n",
    "import os\n",
    "import re\n",
    "\n",
    "class dealdata:\n",
    "    def __init__(self):\n",
    "        self.pth=os.getcwd()\n",
    "        self.fn=os.path.join(self.pth,'data.xlsx')\n",
    "        \n",
    "    def readexcel(self):\n",
    "        lstname=[\"病理类型\",\"大小\",\"脉管癌栓\",\"是否累积脏层胸膜\", \\\n",
    "                 \"支气管断端是否见癌\",\"淋巴结是否转移\",\"淋巴结转移个数\", \\\n",
    "                 \"肿瘤病理分期\",\"ALK-ventana\",\"BRAF\",\"Cmet\",\"HER2\",\"Ki-67\", \\\n",
    "                 \"PD-L1\",\"ROS-1\",\"弹力ELASTIC\"]\n",
    "        df=pd.read_excel(self.fn,sheet_name=0) #病理类型\n",
    "        ptnID=df['病人ID']\n",
    "        bl=df['病理诊断']\n",
    "        \n",
    "        ptns=[r'(?<=- ).*癌(?=，)',r'(大小\\d.*cm)|(最大径\\d.*cm)', \\\n",
    "              r'可见[\\u4e00-\\u9fa5]*癌栓',r'未[\\u4e00-\\u9fa5]*胸膜', \\\n",
    "             r'断端.*可.*癌',r'淋巴结可.*', \\\n",
    "              r'.*[1-9]/\\d.*',r'(?<=病理分期[：:]).*',\\\n",
    "             r'ALK-ventana[(（][-—+－][)）]',r'BRAF[(（][-—+－][)）]', \\\n",
    "             r'Cmet[(（][-—+－].*?[)）]',r'HER2[(（]\\d{0,1}[-—+－][)）]', \\\n",
    "             r'Ki-67[(（]\\d{0,2}%{0,1}[-—+－][)）]',r'PD-L1[(（][-—+－][)）]', \\\n",
    "             r'ROS-1[(（]\\d{0,1}[-—+－][)）]',r'弹力.*[(（].*?[+][)）]']\n",
    "        \n",
    "        n=0\n",
    "        \n",
    "        df_total=pd.DataFrame()        \n",
    "        li_total=[]\n",
    "        for ptn in ptns:  \n",
    "            li=[]\n",
    "            k=0\n",
    "            for b in bl:\n",
    "                res=re.findall(ptn,b) \n",
    "                if len(res)>0:                    \n",
    "                    li.append(res[0])\n",
    "                else:\n",
    "                    li.append(\"\")\n",
    "         \n",
    "            _df=pd.DataFrame(li)\n",
    "            if _df.shape[1]>1:\n",
    "                    _df=self.merge_df(_df)\n",
    "            \n",
    "            \n",
    "            df_total=pd.concat([df_total,_df],axis=1)\n",
    "        df_total.columns=lstname\n",
    "        self.df_total=pd.concat([ptnID,df_total],axis=1)\n",
    "        \n",
    "#         print(df_total.shape,'\\n',len(lstname),'\\n',df_total)\n",
    "        return self.df_total\n",
    "    \n",
    "    def to_excel(self):\n",
    "        fn=os.path.join(self.pth,'pickout.xlsx')\n",
    "        self.df_total.to_excel(fn)\n",
    "        print('写入完成')\n",
    "\n",
    "    def merge_df(self,df):\n",
    "        df.loc[df[0]==\"\",0]=df.loc[df[0]==\"\"][1]    \n",
    "        q={0:df[0].values}\n",
    "        D=pd.DataFrame(q)\n",
    "#         print(df)\n",
    "        return D\n",
    "\n",
    "\n",
    "        \n",
    "        \n",
    "if __name__=='__main__':\n",
    "    mydata=dealdata()\n",
    "    mydata.readexcel()\n",
    "    mydata.to_excel()\n",
    "    \n",
    "    "
   ]
  }
 ],
 "metadata": {
  "kernelspec": {
   "display_name": "Python 3.7.4 64-bit ('base': conda)",
   "language": "python",
   "name": "python37464bitbasecondae2ab51a36111499f9cc9da74f829a7d0"
  },
  "language_info": {
   "codemirror_mode": {
    "name": "ipython",
    "version": 3
   },
   "file_extension": ".py",
   "mimetype": "text/x-python",
   "name": "python",
   "nbconvert_exporter": "python",
   "pygments_lexer": "ipython3",
   "version": "3.7.4"
  },
  "toc": {
   "base_numbering": 1,
   "nav_menu": {},
   "number_sections": true,
   "sideBar": true,
   "skip_h1_title": false,
   "title_cell": "Table of Contents",
   "title_sidebar": "Contents",
   "toc_cell": false,
   "toc_position": {},
   "toc_section_display": true,
   "toc_window_display": false
  }
 },
 "nbformat": 4,
 "nbformat_minor": 4
}
