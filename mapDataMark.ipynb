{
 "cells": [
  {
   "cell_type": "code",
   "execution_count": 100,
   "metadata": {},
   "outputs": [
    {
     "name": "stdout",
     "output_type": "stream",
     "text": [
      "\n",
      "正在标记地图……\n",
      "标记完成，正在出图：\n"
     ]
    },
    {
     "data": {
      "text/html": [
       "<div style=\"width:100%;\"><div style=\"position:relative;width:100%;height:0;padding-bottom:60%;\"><span style=\"color:#565656\">Make this Notebook Trusted to load map: File -> Trust Notebook</span><iframe src=\"about:blank\" style=\"position:absolute;width:100%;height:100%;left:0;top:0;border:none !important;\" data-html=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 onload=\"this.contentDocument.open();this.contentDocument.write(atob(this.getAttribute('data-html')));this.contentDocument.close();\" allowfullscreen webkitallowfullscreen mozallowfullscreen></iframe></div></div>"
      ],
      "text/plain": [
       "<folium.folium.Map at 0x7fba18818220>"
      ]
     },
     "metadata": {},
     "output_type": "display_data"
    }
   ],
   "source": [
    "import os\n",
    "import folium\n",
    "import numpy as np\n",
    "from folium.plugins import HeatMap\n",
    "import requests\n",
    "import json\n",
    "import pandas as pd\n",
    "import webbrowser\n",
    "\n",
    "class Data:\n",
    "    def __init__(self,excel):\n",
    "        self.excel=os.path.join(os.getcwd(),excel)\n",
    "    \n",
    "    def read_excel(self):\n",
    "        print('\\n正在读取数据……\\n',end='')\n",
    "        df=pd.read_excel(self.excel,index_col=False)\n",
    "        df_have_addr=df[~df['住址'].isin(['-'])] #去掉地址为'-‘的值\n",
    "        addrs_counts=pd.DataFrame(pd.value_counts(df_have_addr['住址']))\n",
    "        addrs_counts.reset_index(level=0, inplace=True)\n",
    "        addrs_counts.columns=['住址','数量']\n",
    "        addrs_counts['百分比']= addrs_counts['数量']/addrs_counts['数量'].sum()     #计算占比 \n",
    "        addrs=addrs_counts.values.tolist()\n",
    "        print('完成')        \n",
    "        \n",
    "        print('\\n正在获取地址坐标……',end='')\n",
    "        addrXY=[]\n",
    "        for addr in addrs:\n",
    "            if addr and addr[0]!='-':\n",
    "                XY=self.get_lat_lng(addr)\n",
    "                if XY not in addrXY:\n",
    "                    addrXY.append(XY)        \n",
    "        print('完成')\n",
    "        return addrXY   \n",
    "        \n",
    "        \n",
    "    def drawMap(self,addrXY):\n",
    "        print('\\n正在标记地图……',end='')\n",
    "        addrXY=[['东盟昌泰中央城', 22.805712, 108.400131, 4, 0.15384615384615385], ['幸福里', 22.810561, 108.394393, 4, 0.15384615384615385], ['凤岭1号', 22.80616, 108.397258, 3, 0.11538461538461539], ['五洲国际', 22.806906, 108.39822, 2, 0.07692307692307693], ['新新家园', 22.815392, 108.407608, 2, 0.07692307692307693], ['中新小区', 22.817791, 108.284548, 2, 0.07692307692307693], ['尚城街区', 22.81481, 108.42537, 1, 0.038461538461538464], ['江南检察院', 22.786126, 108.339691, 1, 0.038461538461538464], ['恒大苹果园', 22.80043, 108.422976, 1, 0.038461538461538464], ['江南', 22.809551, 108.40438, 1, 0.038461538461538464], ['华凯', 22.818324, 108.423162, 1, 0.038461538461538464], ['东葛路', 22.830012, 108.36001, 1, 0.038461538461538464], ['山语城', 22.81665, 108.40703, 1, 0.038461538461538464], ['五象新区', 22.770811, 108.38882, 1, 0.038461538461538464], ['莱茵湖畔', 22.81, 108.415951, 1, 0.038461538461538464]]\n",
    "#         print('\\n',addrXY)\n",
    "        city_map = folium.Map(location=[22.808139, 108.398066], \\\n",
    "                              zoom_start=2, \\\n",
    "                              tiles='http://webrd02.is.autonavi.com/appmaptile?lang=zh_cn&size=1&scale=1&style=7&x={x}&y={y}&z={z}',attr='default' \\\n",
    "#                               tiles='http://wprd0{1-4}.is.autonavi.com/appmaptile?x={x}&y={y}&z={z}&lang=zh_cn&size=1&scl=1&style=7&ltype=1',attr='default' \\\n",
    "                             )\n",
    "        tooltip ='请点击我查看该点信息'\n",
    "        folium.Marker([22.808139, 108.398066], popup='快快',tooltip=tooltip).add_to(city_map)\n",
    "        \n",
    "        #构造热力图所需的数据结构\n",
    "        lat=np.array([addrXY[i][1] for i in range(len(addrXY))],dtype=float)\n",
    "        lng=np.array([addrXY[i][2] for i in range(len(addrXY))],dtype=float)\n",
    "        amt=np.array([addrXY[i][3] for i in range(len(addrXY))],dtype=float)\n",
    "        \n",
    "        data=[[lat[i],lng[i],amt[i]] for i in range(len(addrXY))]\n",
    "        HeatMap(data).add_to(city_map) #绘制热力图\n",
    "        \n",
    "#         data1 = [[lat[i],lon[i],pop[i]] for i in range(len(addrXY))] \n",
    "#         for addr in addrXY:\n",
    "#             data=[addr[1],addr[2],addr[3]]\n",
    "#             HeatMap(data).add_to(city_map)\n",
    "            \n",
    "        \n",
    "#         for addr in addrXY:\n",
    "#             folium.Marker([addr[1],addr[2]], popup=self.utf2asc(addr[0]),icon=folium.Icon(color='red')).add_to(city_map)\n",
    "        print('\\n标记完成，正在出图：')    \n",
    "        display(city_map)\n",
    "        \n",
    "    def get_lat_lng(self,kw):        \n",
    "        headers = {'User-Agent': 'Mozilla/5.0 (Macintosh; Intel Mac OS X 10_12_3) AppleWebKit/537.36 (KHTML, like Gecko) Chrome/56.0.2924.87 Safari/537.36'}\n",
    "        key='7VQBZ-OLIK6-2ERS7-EZHVL-VYQF7-EUB5M'\n",
    "        url='https://apis.map.qq.com/ws/place/v1/search?keyword='+kw[0]+'&boundary=nearby(22.808139,108.398066,1000)&key='+key\n",
    "        req=requests.get(url,headers=headers)\n",
    "        t=req.text\n",
    "\n",
    "        mapList=json.loads(t)\n",
    "        lat,lng=mapList['data'][0]['location']['lat'],mapList['data'][0]['location']['lng']\n",
    "        mapAddr=[kw[0],lat,lng,kw[1],kw[2]]\n",
    "\n",
    "        return mapAddr\n",
    "    \n",
    "    def utf2asc(self,s): #正确显示中文\n",
    "        return str(str(s).encode('ascii', 'xmlcharrefreplace'))[2:-1]    \n",
    "    \n",
    "if __name__=='__main__':\n",
    "    mydata=Data('南宁五洲国际店6月1号到今天业绩数据明细.xlsx')\n",
    "#     addrXY=mydata.read_excel()\n",
    "#     print(addrXY)\n",
    "    addrXY=['']\n",
    "    mydata.drawMap(addrXY)\n",
    "\n",
    "    "
   ]
  }
 ],
 "metadata": {
  "kernelspec": {
   "display_name": "Python 3.7.4 64-bit ('base': conda)",
   "language": "python",
   "name": "python37464bitbasecondae2ab51a36111499f9cc9da74f829a7d0"
  },
  "language_info": {
   "codemirror_mode": {
    "name": "ipython",
    "version": 3
   },
   "file_extension": ".py",
   "mimetype": "text/x-python",
   "name": "python",
   "nbconvert_exporter": "python",
   "pygments_lexer": "ipython3",
   "version": "3.8.0"
  }
 },
 "nbformat": 4,
 "nbformat_minor": 4
}
